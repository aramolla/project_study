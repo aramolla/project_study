{
 "cells": [
  {
   "cell_type": "code",
   "execution_count": 3,
   "metadata": {},
   "outputs": [],
   "source": [
    "from langchain.vectorstores import FAISS\n",
    "from langchain_openai import OpenAIEmbeddings\n",
    "import os\n",
    "import getpass\n",
    "\n",
    "os.environ[\"OPENAI_API_KEY\"] = getpass.getpass()\n",
    "embeddings = OpenAIEmbeddings(model=\"text-embedding-3-large\")\n",
    "#sk-proj-vcoWMpG3o5R8ZHn9Q7QTT3BlbkFJiF9cbTbU3ABF3aApdpB2\n",
    "def load_vector_store(path):\n",
    "            return FAISS.load_local(path, embeddings, allow_dangerous_deserialization=True)\n",
    "\n"
   ]
  },
  {
   "cell_type": "code",
   "execution_count": 4,
   "metadata": {},
   "outputs": [],
   "source": [
    "vector_store_path1 = \"/Users/aramolla/Desktop/project/vector_store1\"\n",
    "vector_store_path2 = \"/Users/aramolla/Desktop/project/vector_store2\"\n",
    "db1 = load_vector_store(vector_store_path1)\n",
    "db2 = load_vector_store(vector_store_path2)\n",
    "\n",
    "def merge_vector_stores(db1, db2):\n",
    "    db1.index.add(db2.index.reconstruct_n(0, db2.index.ntotal))\n",
    "    return db1\n",
    "\n",
    "merged_db = merge_vector_stores(db1, db2)\n",
    "\n",
    "merged_vector_store_path = \"/Users/aramolla/Desktop/project/vector_store\"\n",
    "merged_db.save_local(merged_vector_store_path)"
   ]
  }
 ],
 "metadata": {
  "kernelspec": {
   "display_name": "Python 3",
   "language": "python",
   "name": "python3"
  },
  "language_info": {
   "codemirror_mode": {
    "name": "ipython",
    "version": 3
   },
   "file_extension": ".py",
   "mimetype": "text/x-python",
   "name": "python",
   "nbconvert_exporter": "python",
   "pygments_lexer": "ipython3",
   "version": "3.8.19"
  }
 },
 "nbformat": 4,
 "nbformat_minor": 2
}
